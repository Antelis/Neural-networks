{
  "cells": [
    {
      "cell_type": "markdown",
      "metadata": {
        "id": "F5MlT518Azcw"
      },
      "source": [
        "# Demo 1: Regression models with a synthetic dataset of images\n",
        "\n",
        "The aim of this notebook is to show how to learn and to test a machine learning (ML) model, in particular a regression model (i.e., supervised learning) with a synthetic dataset of images\n",
        "\n",
        "Some descriptions of the used dataset (DatasetSynthetic_U64.csv):\n",
        "\n",
        "* There are 9800 images\n",
        "\n",
        "* Each image is a data matrix of 28$\\times$28, that is, $\\mathbf{X} \\in \\mathbb{R}^{28\\times28}$\n",
        "\n",
        "* Equivalently, each image is a data vector of 764$\\times$1, that is, $\\mathbf{x} \\in \\mathbb{R}^{764\\times1}$\n",
        "\n",
        "* Each image (or vector) has a continuous value $y$ associated to it, in specific, $y \\in [600 , 4200]$\n",
        "\n",
        "\n",
        "Note that the idea is to learn or train or tune a ML model, in particular a regression model (i.e., supervised learning) to predict $y$ given a new image $\\mathbf{X}$ or a new vector $\\mathbf{x}$."
      ],
      "id": "F5MlT518Azcw"
    },
    {
      "cell_type": "markdown",
      "source": [
        "# Andrew, your goal now is to fully understand this notebook, in particular, to understand\n",
        "\n",
        "* The dataset\n",
        "\n",
        "* What is the pourpose of the ML regression model\n",
        "\n",
        "* The code\n",
        "\n",
        "* The results\n",
        "\n",
        "* The plots\n",
        "\n",
        "NOTE: this is not gonna be one-day work, rather, it s gonna be a constand and steady work along time"
      ],
      "metadata": {
        "id": "66g8pxYQe2Cg"
      },
      "id": "66g8pxYQe2Cg"
    },
    {
      "cell_type": "markdown",
      "metadata": {
        "id": "vHaOnvtjAzcy"
      },
      "source": [
        "# Definitions\n"
      ],
      "id": "vHaOnvtjAzcy"
    },
    {
      "cell_type": "code",
      "execution_count": null,
      "metadata": {
        "id": "H4bICIDmAzcz"
      },
      "outputs": [],
      "source": [
        "# -------------------------------\n",
        "# Define filename of the dataset\n",
        "FileName            = \"DatasetSynthetic_U64.csv\"  # ('DatasetSynthetic_U64.csv', 'DatasetSynthetic_U128.csv', 'DatasetBBH_Type1_D500_K28_Run1')\n",
        "\n",
        "# -------------------------------\n",
        "# Select a regression model\n",
        "model               = \"Linear\"   # (Linear|Ridge|Lasso|BayesianRidge|DecisionTree|SVR|DNN16|DNN32|DNN64|DNN128|DNN256|DNN512|DNN1024|CNN1|CNN2|CNN3)\n",
        "\n",
        "# -------------------------------\n",
        "# Standarization\n",
        "DoStandarization_X  = False    # (False: no  | True: yes)\n",
        "DoStandarization_y  = False    # (False: no  | True: yes)\n",
        "\n",
        "# -------------------------------\n",
        "# Feature selection\n",
        "DoFeatureSelection  = False    # (False: no  | True: yes)\n",
        "\n",
        "# -------------------------------\n",
        "# For debugging\n",
        "doprint             = True     # (False: no  | True: yes)\n",
        "doplot              = True     # (False: no  | True: yes)\n",
        "\n",
        "# -------------------------------\n",
        "# Define where you are running the code\n",
        "RunInColab          = True     # (False: no  | True: yes)\n",
        "\n",
        "# -------------------------------\n",
        "# Define K, the shape of the images\n",
        "Kimg                = 28\n"
      ],
      "id": "H4bICIDmAzcz"
    },
    {
      "cell_type": "markdown",
      "metadata": {
        "id": "iPEIiVswAzcz"
      },
      "source": [
        "# Import libraries"
      ],
      "id": "iPEIiVswAzcz"
    },
    {
      "cell_type": "code",
      "execution_count": null,
      "metadata": {
        "id": "FgqQIfr6Azcz"
      },
      "outputs": [],
      "source": [
        "# -------------------------------\n",
        "# Import packages\n",
        "import numpy as np\n",
        "import pandas as pd\n",
        "import matplotlib.pyplot as plt\n",
        "%matplotlib inline\n",
        "import seaborn as sns\n",
        "\n",
        "# -------------------------------\n",
        "# Import sklearn functions\n",
        "from sklearn.model_selection import train_test_split\n",
        "from sklearn.preprocessing import StandardScaler\n",
        "\n",
        "# -------------------------------\n",
        "# Import sklearn functions for metrics\n",
        "from sklearn.metrics import r2_score\n",
        "from sklearn.metrics import explained_variance_score\n",
        "from sklearn.metrics import mean_absolute_error\n",
        "from sklearn.metrics import mean_squared_error\n",
        "from sklearn.metrics import mean_absolute_percentage_error\n",
        "from sklearn.metrics import max_error\n",
        "\n",
        "# -------------------------------\n",
        "# Import sklearn functions for regression\n",
        "if model==\"Linear\" or model==\"Ridge\" or model==\"Lasso\" or model==\"BayesianRidge\":\n",
        "    from sklearn import linear_model\n",
        "\n",
        "elif model==\"SVR\":\n",
        "    from sklearn.svm import SVR\n",
        "\n",
        "elif model==\"DecisionTree\":\n",
        "    from sklearn import tree\n",
        "\n",
        "elif model[0:3]==\"DNN\" and RunInColab:\n",
        "    from tensorflow import keras\n",
        "    from tensorflow.keras import layers\n",
        "    #from tensorflow.keras.optimizers import SGD\n",
        "    from tensorflow.keras.optimizers import RMSprop\n",
        "\n",
        "elif model[0:3]==\"CNN\" and RunInColab:\n",
        "    import keras\n",
        "    from keras.models import Sequential\n",
        "    from keras.layers import Dense, Dropout, Activation, Flatten\n",
        "    from keras.layers import Conv2D, MaxPooling2D\n",
        "\n",
        "    from keras import backend as K\n",
        "    #from tensorflow.keras.layers.normalization import BatchNormalization\n",
        "\n",
        "    from keras import backend as K\n",
        "\n",
        "    def r2_keras(y_true, y_pred):\n",
        "        SS_res =  K.sum(K.square( y_true - y_pred ))\n",
        "        SS_tot = K.sum(K.square( y_true - K.mean(y_true) ) )\n",
        "        return ( 1 - SS_res/(SS_tot + K.epsilon()) )\n",
        "\n",
        "else:\n",
        "    print(\"PILAS: esto no puede pasar\")\n"
      ],
      "id": "FgqQIfr6Azcz"
    },
    {
      "cell_type": "code",
      "execution_count": null,
      "metadata": {
        "colab": {
          "base_uri": "https://localhost:8080/"
        },
        "id": "Vil-crTJBiCY",
        "outputId": "4dc776da-a91c-48cf-cd8c-c2fd9ff6704e"
      },
      "outputs": [
        {
          "output_type": "stream",
          "name": "stdout",
          "text": [
            "Mounted at /content/drive\n",
            "/content\n",
            "drive  sample_data\n",
            "Datasets  Demo1_RegressionModels.ipynb\tResultsDemo1\n"
          ]
        }
      ],
      "source": [
        "if RunInColab:\n",
        "    # -------------------------------\n",
        "    # If executing in colab:\n",
        "\n",
        "    # -------------------------------\n",
        "    # Mount your google drive in google colab\n",
        "    from google.colab import drive\n",
        "    drive.mount('/content/drive')\n",
        "\n",
        "    # -------------------------------\n",
        "    # Find location\n",
        "    !pwd\n",
        "    !ls\n",
        "    !ls \"/content/drive/MyDrive/uhhh/Project_Regression4MassEstimation\"\n",
        "\n",
        "    # -------------------------------\n",
        "    # Define ruta del proyecto\n",
        "    Ruta            = \"/content/drive/MyDrive/uhhh/Project_Regression4MassEstimation\"\n",
        "\n",
        "    # -------------------------------\n",
        "    # Insert the directory\n",
        "    import sys\n",
        "    sys.path.insert(0,Ruta)\n",
        "else:\n",
        "    # -------------------------------\n",
        "    # If executing in local computer:\n",
        "\n",
        "    # -------------------------------\n",
        "    # Define ruta del proyecto\n",
        "    Ruta            = \"\"\n"
      ],
      "id": "Vil-crTJBiCY"
    },
    {
      "cell_type": "code",
      "execution_count": null,
      "metadata": {
        "id": "te7Bx2yu5WWY"
      },
      "outputs": [],
      "source": [
        "# -------------------------------\n",
        "# Import custom made functions\n",
        "#import mylibrary as mylibrary\n"
      ],
      "id": "te7Bx2yu5WWY"
    },
    {
      "cell_type": "markdown",
      "metadata": {
        "id": "bkVgv-8hAzc0"
      },
      "source": [
        "# Load and explore data"
      ],
      "id": "bkVgv-8hAzc0"
    },
    {
      "cell_type": "code",
      "execution_count": null,
      "metadata": {
        "colab": {
          "base_uri": "https://localhost:8080/"
        },
        "id": "xmA8c2KdAzc0",
        "outputId": "da467d3d-c7e6-4a63-ce8b-c3ed545b3f96"
      },
      "outputs": [
        {
          "output_type": "stream",
          "name": "stdout",
          "text": [
            "The data set for gmode slope estimation has 9800 rows and 785 columns\n"
          ]
        }
      ],
      "source": [
        "# -------------------------------\n",
        "# Load dataset as pandas dataframe\n",
        "df = pd.read_csv(Ruta+\"/Datasets/\"+FileName)\n",
        "\n",
        "# -------------------------------\n",
        "# Print number of row and number of columns in the dataset\n",
        "print(\"The data set for gmode slope estimation has {} rows and {} columns\".format(df.shape[0],df.shape[1]))\n"
      ],
      "id": "xmA8c2KdAzc0"
    },
    {
      "cell_type": "code",
      "source": [
        "# -------------------------------\n",
        "# Print dataset\n",
        "df\n"
      ],
      "metadata": {
        "colab": {
          "base_uri": "https://localhost:8080/"
        },
        "id": "zlZRPLUZeZXo",
        "outputId": "7600effc-ca28-4d5e-b14e-f786290bfb0f"
      },
      "id": "zlZRPLUZeZXo",
      "execution_count": null,
      "outputs": [
        {
          "output_type": "execute_result",
          "data": {
            "text/plain": [
              "       label    0    1    2    3    4    5    6    7    8  ...  774  775  776  \\\n",
              "0      600.0  255  255  255  255  255  255  255  255  255  ...  255  255  255   \n",
              "1      600.0  255  255  255  255  255  255  255  255  255  ...  255  255  255   \n",
              "2      600.0  255  255  255  255  255  255  255  255  255  ...  255  255  255   \n",
              "3      600.0  255  255  255  255  255  255  255  255  255  ...  255  255  255   \n",
              "4      600.0  255  255  255  255  255  255  255  255  255  ...  255  255  255   \n",
              "...      ...  ...  ...  ...  ...  ...  ...  ...  ...  ...  ...  ...  ...  ...   \n",
              "9795  4200.0  255  255  255  255  255  255  255  255  255  ...  255  255  255   \n",
              "9796  4200.0  255  255  255  255  255  255  255  255  255  ...  255  255  255   \n",
              "9797  4200.0  255  255  255  255  255  255  255  255  255  ...  255  255  255   \n",
              "9798  4200.0  255  255  255  255  255  255  255  255  255  ...  255  255  255   \n",
              "9799  4200.0  255  255  255  255  255  255  255  255  255  ...  255  255  255   \n",
              "\n",
              "      777  778  779  780  781  782  783  \n",
              "0     255  255  255  255  255  255  255  \n",
              "1     255  255  255  255  255  255  255  \n",
              "2     255  255  255  255  255  255  255  \n",
              "3     255  255  255  255  255  255  255  \n",
              "4     255  255  255  255  255  255  255  \n",
              "...   ...  ...  ...  ...  ...  ...  ...  \n",
              "9795  255  255  255  255  255  255  255  \n",
              "9796  255  255  255  255  255  255  255  \n",
              "9797  255  255  255  255  255  255  255  \n",
              "9798  255  255  255  255  255  255  255  \n",
              "9799  255  255  255  255  255  255  255  \n",
              "\n",
              "[9800 rows x 785 columns]"
            ],
            "text/html": [
              "\n",
              "  <div id=\"df-e136a4e1-5f59-4b15-88b7-3e04a6a7e702\">\n",
              "    <div class=\"colab-df-container\">\n",
              "      <div>\n",
              "<style scoped>\n",
              "    .dataframe tbody tr th:only-of-type {\n",
              "        vertical-align: middle;\n",
              "    }\n",
              "\n",
              "    .dataframe tbody tr th {\n",
              "        vertical-align: top;\n",
              "    }\n",
              "\n",
              "    .dataframe thead th {\n",
              "        text-align: right;\n",
              "    }\n",
              "</style>\n",
              "<table border=\"1\" class=\"dataframe\">\n",
              "  <thead>\n",
              "    <tr style=\"text-align: right;\">\n",
              "      <th></th>\n",
              "      <th>label</th>\n",
              "      <th>0</th>\n",
              "      <th>1</th>\n",
              "      <th>2</th>\n",
              "      <th>3</th>\n",
              "      <th>4</th>\n",
              "      <th>5</th>\n",
              "      <th>6</th>\n",
              "      <th>7</th>\n",
              "      <th>8</th>\n",
              "      <th>...</th>\n",
              "      <th>774</th>\n",
              "      <th>775</th>\n",
              "      <th>776</th>\n",
              "      <th>777</th>\n",
              "      <th>778</th>\n",
              "      <th>779</th>\n",
              "      <th>780</th>\n",
              "      <th>781</th>\n",
              "      <th>782</th>\n",
              "      <th>783</th>\n",
              "    </tr>\n",
              "  </thead>\n",
              "  <tbody>\n",
              "    <tr>\n",
              "      <th>0</th>\n",
              "      <td>600.0</td>\n",
              "      <td>255</td>\n",
              "      <td>255</td>\n",
              "      <td>255</td>\n",
              "      <td>255</td>\n",
              "      <td>255</td>\n",
              "      <td>255</td>\n",
              "      <td>255</td>\n",
              "      <td>255</td>\n",
              "      <td>255</td>\n",
              "      <td>...</td>\n",
              "      <td>255</td>\n",
              "      <td>255</td>\n",
              "      <td>255</td>\n",
              "      <td>255</td>\n",
              "      <td>255</td>\n",
              "      <td>255</td>\n",
              "      <td>255</td>\n",
              "      <td>255</td>\n",
              "      <td>255</td>\n",
              "      <td>255</td>\n",
              "    </tr>\n",
              "    <tr>\n",
              "      <th>1</th>\n",
              "      <td>600.0</td>\n",
              "      <td>255</td>\n",
              "      <td>255</td>\n",
              "      <td>255</td>\n",
              "      <td>255</td>\n",
              "      <td>255</td>\n",
              "      <td>255</td>\n",
              "      <td>255</td>\n",
              "      <td>255</td>\n",
              "      <td>255</td>\n",
              "      <td>...</td>\n",
              "      <td>255</td>\n",
              "      <td>255</td>\n",
              "      <td>255</td>\n",
              "      <td>255</td>\n",
              "      <td>255</td>\n",
              "      <td>255</td>\n",
              "      <td>255</td>\n",
              "      <td>255</td>\n",
              "      <td>255</td>\n",
              "      <td>255</td>\n",
              "    </tr>\n",
              "    <tr>\n",
              "      <th>2</th>\n",
              "      <td>600.0</td>\n",
              "      <td>255</td>\n",
              "      <td>255</td>\n",
              "      <td>255</td>\n",
              "      <td>255</td>\n",
              "      <td>255</td>\n",
              "      <td>255</td>\n",
              "      <td>255</td>\n",
              "      <td>255</td>\n",
              "      <td>255</td>\n",
              "      <td>...</td>\n",
              "      <td>255</td>\n",
              "      <td>255</td>\n",
              "      <td>255</td>\n",
              "      <td>255</td>\n",
              "      <td>255</td>\n",
              "      <td>255</td>\n",
              "      <td>255</td>\n",
              "      <td>255</td>\n",
              "      <td>255</td>\n",
              "      <td>255</td>\n",
              "    </tr>\n",
              "    <tr>\n",
              "      <th>3</th>\n",
              "      <td>600.0</td>\n",
              "      <td>255</td>\n",
              "      <td>255</td>\n",
              "      <td>255</td>\n",
              "      <td>255</td>\n",
              "      <td>255</td>\n",
              "      <td>255</td>\n",
              "      <td>255</td>\n",
              "      <td>255</td>\n",
              "      <td>255</td>\n",
              "      <td>...</td>\n",
              "      <td>255</td>\n",
              "      <td>255</td>\n",
              "      <td>255</td>\n",
              "      <td>255</td>\n",
              "      <td>255</td>\n",
              "      <td>255</td>\n",
              "      <td>255</td>\n",
              "      <td>255</td>\n",
              "      <td>255</td>\n",
              "      <td>255</td>\n",
              "    </tr>\n",
              "    <tr>\n",
              "      <th>4</th>\n",
              "      <td>600.0</td>\n",
              "      <td>255</td>\n",
              "      <td>255</td>\n",
              "      <td>255</td>\n",
              "      <td>255</td>\n",
              "      <td>255</td>\n",
              "      <td>255</td>\n",
              "      <td>255</td>\n",
              "      <td>255</td>\n",
              "      <td>255</td>\n",
              "      <td>...</td>\n",
              "      <td>255</td>\n",
              "      <td>255</td>\n",
              "      <td>255</td>\n",
              "      <td>255</td>\n",
              "      <td>255</td>\n",
              "      <td>255</td>\n",
              "      <td>255</td>\n",
              "      <td>255</td>\n",
              "      <td>255</td>\n",
              "      <td>255</td>\n",
              "    </tr>\n",
              "    <tr>\n",
              "      <th>...</th>\n",
              "      <td>...</td>\n",
              "      <td>...</td>\n",
              "      <td>...</td>\n",
              "      <td>...</td>\n",
              "      <td>...</td>\n",
              "      <td>...</td>\n",
              "      <td>...</td>\n",
              "      <td>...</td>\n",
              "      <td>...</td>\n",
              "      <td>...</td>\n",
              "      <td>...</td>\n",
              "      <td>...</td>\n",
              "      <td>...</td>\n",
              "      <td>...</td>\n",
              "      <td>...</td>\n",
              "      <td>...</td>\n",
              "      <td>...</td>\n",
              "      <td>...</td>\n",
              "      <td>...</td>\n",
              "      <td>...</td>\n",
              "      <td>...</td>\n",
              "    </tr>\n",
              "    <tr>\n",
              "      <th>9795</th>\n",
              "      <td>4200.0</td>\n",
              "      <td>255</td>\n",
              "      <td>255</td>\n",
              "      <td>255</td>\n",
              "      <td>255</td>\n",
              "      <td>255</td>\n",
              "      <td>255</td>\n",
              "      <td>255</td>\n",
              "      <td>255</td>\n",
              "      <td>255</td>\n",
              "      <td>...</td>\n",
              "      <td>255</td>\n",
              "      <td>255</td>\n",
              "      <td>255</td>\n",
              "      <td>255</td>\n",
              "      <td>255</td>\n",
              "      <td>255</td>\n",
              "      <td>255</td>\n",
              "      <td>255</td>\n",
              "      <td>255</td>\n",
              "      <td>255</td>\n",
              "    </tr>\n",
              "    <tr>\n",
              "      <th>9796</th>\n",
              "      <td>4200.0</td>\n",
              "      <td>255</td>\n",
              "      <td>255</td>\n",
              "      <td>255</td>\n",
              "      <td>255</td>\n",
              "      <td>255</td>\n",
              "      <td>255</td>\n",
              "      <td>255</td>\n",
              "      <td>255</td>\n",
              "      <td>255</td>\n",
              "      <td>...</td>\n",
              "      <td>255</td>\n",
              "      <td>255</td>\n",
              "      <td>255</td>\n",
              "      <td>255</td>\n",
              "      <td>255</td>\n",
              "      <td>255</td>\n",
              "      <td>255</td>\n",
              "      <td>255</td>\n",
              "      <td>255</td>\n",
              "      <td>255</td>\n",
              "    </tr>\n",
              "    <tr>\n",
              "      <th>9797</th>\n",
              "      <td>4200.0</td>\n",
              "      <td>255</td>\n",
              "      <td>255</td>\n",
              "      <td>255</td>\n",
              "      <td>255</td>\n",
              "      <td>255</td>\n",
              "      <td>255</td>\n",
              "      <td>255</td>\n",
              "      <td>255</td>\n",
              "      <td>255</td>\n",
              "      <td>...</td>\n",
              "      <td>255</td>\n",
              "      <td>255</td>\n",
              "      <td>255</td>\n",
              "      <td>255</td>\n",
              "      <td>255</td>\n",
              "      <td>255</td>\n",
              "      <td>255</td>\n",
              "      <td>255</td>\n",
              "      <td>255</td>\n",
              "      <td>255</td>\n",
              "    </tr>\n",
              "    <tr>\n",
              "      <th>9798</th>\n",
              "      <td>4200.0</td>\n",
              "      <td>255</td>\n",
              "      <td>255</td>\n",
              "      <td>255</td>\n",
              "      <td>255</td>\n",
              "      <td>255</td>\n",
              "      <td>255</td>\n",
              "      <td>255</td>\n",
              "      <td>255</td>\n",
              "      <td>255</td>\n",
              "      <td>...</td>\n",
              "      <td>255</td>\n",
              "      <td>255</td>\n",
              "      <td>255</td>\n",
              "      <td>255</td>\n",
              "      <td>255</td>\n",
              "      <td>255</td>\n",
              "      <td>255</td>\n",
              "      <td>255</td>\n",
              "      <td>255</td>\n",
              "      <td>255</td>\n",
              "    </tr>\n",
              "    <tr>\n",
              "      <th>9799</th>\n",
              "      <td>4200.0</td>\n",
              "      <td>255</td>\n",
              "      <td>255</td>\n",
              "      <td>255</td>\n",
              "      <td>255</td>\n",
              "      <td>255</td>\n",
              "      <td>255</td>\n",
              "      <td>255</td>\n",
              "      <td>255</td>\n",
              "      <td>255</td>\n",
              "      <td>...</td>\n",
              "      <td>255</td>\n",
              "      <td>255</td>\n",
              "      <td>255</td>\n",
              "      <td>255</td>\n",
              "      <td>255</td>\n",
              "      <td>255</td>\n",
              "      <td>255</td>\n",
              "      <td>255</td>\n",
              "      <td>255</td>\n",
              "      <td>255</td>\n",
              "    </tr>\n",
              "  </tbody>\n",
              "</table>\n",
              "<p>9800 rows × 785 columns</p>\n",
              "</div>\n",
              "      <button class=\"colab-df-convert\" onclick=\"convertToInteractive('df-e136a4e1-5f59-4b15-88b7-3e04a6a7e702')\"\n",
              "              title=\"Convert this dataframe to an interactive table.\"\n",
              "              style=\"display:none;\">\n",
              "        \n",
              "  <svg xmlns=\"http://www.w3.org/2000/svg\" height=\"24px\"viewBox=\"0 0 24 24\"\n",
              "       width=\"24px\">\n",
              "    <path d=\"M0 0h24v24H0V0z\" fill=\"none\"/>\n",
              "    <path d=\"M18.56 5.44l.94 2.06.94-2.06 2.06-.94-2.06-.94-.94-2.06-.94 2.06-2.06.94zm-11 1L8.5 8.5l.94-2.06 2.06-.94-2.06-.94L8.5 2.5l-.94 2.06-2.06.94zm10 10l.94 2.06.94-2.06 2.06-.94-2.06-.94-.94-2.06-.94 2.06-2.06.94z\"/><path d=\"M17.41 7.96l-1.37-1.37c-.4-.4-.92-.59-1.43-.59-.52 0-1.04.2-1.43.59L10.3 9.45l-7.72 7.72c-.78.78-.78 2.05 0 2.83L4 21.41c.39.39.9.59 1.41.59.51 0 1.02-.2 1.41-.59l7.78-7.78 2.81-2.81c.8-.78.8-2.07 0-2.86zM5.41 20L4 18.59l7.72-7.72 1.47 1.35L5.41 20z\"/>\n",
              "  </svg>\n",
              "      </button>\n",
              "      \n",
              "  <style>\n",
              "    .colab-df-container {\n",
              "      display:flex;\n",
              "      flex-wrap:wrap;\n",
              "      gap: 12px;\n",
              "    }\n",
              "\n",
              "    .colab-df-convert {\n",
              "      background-color: #E8F0FE;\n",
              "      border: none;\n",
              "      border-radius: 50%;\n",
              "      cursor: pointer;\n",
              "      display: none;\n",
              "      fill: #1967D2;\n",
              "      height: 32px;\n",
              "      padding: 0 0 0 0;\n",
              "      width: 32px;\n",
              "    }\n",
              "\n",
              "    .colab-df-convert:hover {\n",
              "      background-color: #E2EBFA;\n",
              "      box-shadow: 0px 1px 2px rgba(60, 64, 67, 0.3), 0px 1px 3px 1px rgba(60, 64, 67, 0.15);\n",
              "      fill: #174EA6;\n",
              "    }\n",
              "\n",
              "    [theme=dark] .colab-df-convert {\n",
              "      background-color: #3B4455;\n",
              "      fill: #D2E3FC;\n",
              "    }\n",
              "\n",
              "    [theme=dark] .colab-df-convert:hover {\n",
              "      background-color: #434B5C;\n",
              "      box-shadow: 0px 1px 3px 1px rgba(0, 0, 0, 0.15);\n",
              "      filter: drop-shadow(0px 1px 2px rgba(0, 0, 0, 0.3));\n",
              "      fill: #FFFFFF;\n",
              "    }\n",
              "  </style>\n",
              "\n",
              "      <script>\n",
              "        const buttonEl =\n",
              "          document.querySelector('#df-e136a4e1-5f59-4b15-88b7-3e04a6a7e702 button.colab-df-convert');\n",
              "        buttonEl.style.display =\n",
              "          google.colab.kernel.accessAllowed ? 'block' : 'none';\n",
              "\n",
              "        async function convertToInteractive(key) {\n",
              "          const element = document.querySelector('#df-e136a4e1-5f59-4b15-88b7-3e04a6a7e702');\n",
              "          const dataTable =\n",
              "            await google.colab.kernel.invokeFunction('convertToInteractive',\n",
              "                                                     [key], {});\n",
              "          if (!dataTable) return;\n",
              "\n",
              "          const docLinkHtml = 'Like what you see? Visit the ' +\n",
              "            '<a target=\"_blank\" href=https://colab.research.google.com/notebooks/data_table.ipynb>data table notebook</a>'\n",
              "            + ' to learn more about interactive tables.';\n",
              "          element.innerHTML = '';\n",
              "          dataTable['output_type'] = 'display_data';\n",
              "          await google.colab.output.renderOutput(dataTable, element);\n",
              "          const docLink = document.createElement('div');\n",
              "          docLink.innerHTML = docLinkHtml;\n",
              "          element.appendChild(docLink);\n",
              "        }\n",
              "      </script>\n",
              "    </div>\n",
              "  </div>\n",
              "  "
            ]
          },
          "metadata": {},
          "execution_count": 6
        }
      ]
    },
    {
      "cell_type": "code",
      "execution_count": null,
      "metadata": {
        "colab": {
          "base_uri": "https://localhost:8080/"
        },
        "id": "vULH2ufkAzc1",
        "outputId": "f3d93ce2-ccd3-4046-8b59-f8f5027b74fb"
      },
      "outputs": [
        {
          "output_type": "stream",
          "name": "stdout",
          "text": [
            "Verify X data\n",
            "min max\n",
            "64 255\n",
            " \n",
            "Verify y data\n",
            "min max\n",
            "600.0 4200.0\n",
            " \n",
            "Data type X --> <class 'numpy.ndarray'>\n",
            "Data type y --> <class 'numpy.ndarray'>\n",
            " \n",
            "Shape X --> (9800, 784)\n",
            "Shape y --> (9800,)\n"
          ]
        }
      ],
      "source": [
        "# -------------------------------\n",
        "# Convert data to numpy format\n",
        "y = df.label.values         # Get predictand or dependent variable\n",
        "X = df.drop(\"label\",axis=1) # Get predictors or independent variables\n",
        "X = X.values\n",
        "\n",
        "# -------------------------------\n",
        "# Verify X data\n",
        "minX = np.min(X)\n",
        "maxX = np.max(X)\n",
        "print(\"Verify X data\")\n",
        "print(\"min max\")\n",
        "print(minX, maxX)\n",
        "print(\" \")\n",
        "\n",
        "# -------------------------------\n",
        "# Verify y data\n",
        "miny = np.min(y)\n",
        "maxy = np.max(y)\n",
        "print(\"Verify y data\")\n",
        "print(\"min max\")\n",
        "print(miny, maxy)\n",
        "print(\" \")\n",
        "\n",
        "# -------------------------------\n",
        "# Print data type\n",
        "print(\"Data type X -->\",type(X))\n",
        "print(\"Data type y -->\",type(y))\n",
        "print(\" \")\n",
        "\n",
        "# -------------------------------\n",
        "# Print dimensions of X and y\n",
        "print(\"Shape X -->\",X.shape)\n",
        "print(\"Shape y -->\",y.shape)\n"
      ],
      "id": "vULH2ufkAzc1"
    },
    {
      "cell_type": "code",
      "source": [
        "# -------------------------------\n",
        "# Unique values of y\n",
        "print(np.unique(y))\n",
        "\n",
        "# -------------------------------\n",
        "# Print number of unique values in y\n",
        "print(\"There are {0:d} unique values in y\".format(len(np.unique(y))))\n",
        "\n",
        "# -------------------------------\n",
        "# Note\n",
        "print(\"Despite that there are just a few values of the response \\\"y\\\" whithin the range of interest we can still do regression\")"
      ],
      "metadata": {
        "colab": {
          "base_uri": "https://localhost:8080/"
        },
        "id": "0hinEwyEMK5X",
        "outputId": "961a0667-73eb-462d-c22b-90a994a93e4c"
      },
      "id": "0hinEwyEMK5X",
      "execution_count": null,
      "outputs": [
        {
          "output_type": "stream",
          "name": "stdout",
          "text": [
            "[ 600. 1200. 1800. 2400. 3000. 3600. 4200.]\n",
            "There are 7 unique values in y\n",
            "Despite that there are just a few values of the response \"y\" whithin the range of interest we can still do regression\n"
          ]
        }
      ]
    },
    {
      "cell_type": "code",
      "execution_count": null,
      "metadata": {
        "colab": {
          "base_uri": "https://localhost:8080/"
        },
        "id": "zQz3qoezkNJ3",
        "outputId": "1634532c-87ff-4308-d1ac-f9c9c7a5cf6a"
      },
      "outputs": [
        {
          "output_type": "stream",
          "name": "stdout",
          "text": [
            "You have selected the image 864\n",
            " \n",
            "Verify Xi data\n",
            "min max\n",
            "64 255\n",
            " \n",
            "Verify yi data\n",
            "min    max\n",
            "600.0 600.0\n",
            " \n"
          ]
        },
        {
          "output_type": "display_data",
          "data": {
            "text/plain": [
              "<Figure size 400x400 with 1 Axes>"
            ],
            "image/png": "[encoded data removed]"
          },
          "metadata": {}
        }
      ],
      "source": [
        "# -------------------------------\n",
        "# Plot one of the images in the dataset\n",
        "\n",
        "# -------------------------------\n",
        "# Select image\n",
        "i  = 864\n",
        "print(\"You have selected the image {0:d}\".format(i) )\n",
        "print(\" \")\n",
        "\n",
        "# -------------------------------\n",
        "# Convert from data vector of 764x1 to a data matrix of 28x28\n",
        "Xi = X[i,:].reshape(Kimg,Kimg) # Data matrix of 28x28\n",
        "yi = y[i]                  # Scalar output of response for the selected image\n",
        "\n",
        "# -------------------------------\n",
        "# Verify Xi data\n",
        "minX = np.min(Xi)\n",
        "maxX = np.max(Xi)\n",
        "print(\"Verify Xi data\")\n",
        "print(\"min max\")\n",
        "print(minX, maxX)\n",
        "print(\" \")\n",
        "\n",
        "# -------------------------------\n",
        "# Verify yi data\n",
        "miny = np.min(yi)\n",
        "maxy = np.max(yi)\n",
        "print(\"Verify yi data\")\n",
        "print(\"min    max\")\n",
        "print(miny, maxy)\n",
        "print(\" \")\n",
        "\n",
        "# -------------------------------\n",
        "# Plot selected image\n",
        "plt.figure(figsize=(4,4))\n",
        "\n",
        "plt.imshow(Xi, cmap=plt.cm.gray)\n",
        "plt.title(\"y={0:.0f}\".format(yi))\n",
        "#plt.xticks([])\n",
        "#plt.yticks([])\n",
        "plt.grid(False)\n",
        "\n",
        "plt.show()\n"
      ],
      "id": "zQz3qoezkNJ3"
    },
    {
      "cell_type": "code",
      "execution_count": null,
      "metadata": {
        "colab": {
          "base_uri": "https://localhost:8080/"
        },
        "id": "3LWgs7o5i0wk",
        "outputId": "e1295184-f967-4e38-9318-1d0140fa1eb9"
      },
      "outputs": [
        {
          "output_type": "display_data",
          "data": {
            "text/plain": [
              "<Figure size 1200x800 with 28 Axes>"
            ],
            "image/png": "[encoded data removed]"
          },
          "metadata": {}
        }
      ],
      "source": [
        "# -------------------------------\n",
        "# Now let's select and plot a total of 28 images\n",
        "#ini = 3000; ListInd = range(0+ini,28+ini,1)\n",
        "ListInd = [0,1151,2800,4200,5600,7000,8400,\n",
        "           1,1152,2801,4201,5601,7001,8401,\n",
        "           2,1152,2802,4202,5602,7002,8402,\n",
        "           3,1153,2803,4203,5603,7003,8403]\n",
        "\n",
        "# -------------------------------\n",
        "# Plot selected images\n",
        "plt.figure(figsize=(12,8))\n",
        "for i, i2p in enumerate(ListInd):\n",
        "\n",
        "    # Get the image and its corresponding y value\n",
        "    Xi = X[i2p,:]\n",
        "    yi = y[i2p]\n",
        "\n",
        "    # Plot the image\n",
        "    plt.subplot(4,7,i+1)\n",
        "    plt.xticks([])\n",
        "    plt.yticks([])\n",
        "    plt.grid(False)\n",
        "    plt.imshow(Xi.reshape(Kimg,Kimg), cmap=plt.cm.gray)\n",
        "    plt.title(\"y={0:.0f}\".format(yi))\n",
        "\n",
        "plt.show()\n",
        "\n"
      ],
      "id": "3LWgs7o5i0wk"
    },
    {
      "cell_type": "markdown",
      "metadata": {
        "id": "yDLMhRzUAzc3"
      },
      "source": [
        "# Standarization"
      ],
      "id": "yDLMhRzUAzc3"
    },
    {
      "cell_type": "code",
      "execution_count": null,
      "metadata": {
        "colab": {
          "base_uri": "https://localhost:8080/"
        },
        "id": "JaOj1m1qAzc3",
        "outputId": "0576c715-7551-4632-f553-2f83f14ab68c"
      },
      "outputs": [
        {
          "output_type": "stream",
          "name": "stdout",
          "text": [
            "Shape X --> (9800, 784)\n",
            "Shape y --> (9800,)\n"
          ]
        }
      ],
      "source": [
        "# -------------------------------\n",
        "# Standarize X\n",
        "if DoStandarization_X:\n",
        "\n",
        "    # Create StandardScaler object for \"X\"\n",
        "    scaler_X = StandardScaler()\n",
        "    # Fit the scaler\n",
        "    scaler_X.fit(X)\n",
        "    # Scale the data\n",
        "    X        = scaler_X.transform(X)\n",
        "\n",
        "# -------------------------------\n",
        "# Standarize y\n",
        "if DoStandarization_y:\n",
        "\n",
        "    # Create StandardScaler object for \"y\"\n",
        "    scaler_y = StandardScaler()\n",
        "    # Fit the scaler\n",
        "    scaler_y.fit(y.reshape(-1, 1))\n",
        "    # Scale the data\n",
        "    y        = scaler_y.transform(y.reshape(-1, 1))\n",
        "    y        = y.reshape(-1)\n",
        "    # Print y scaled data information\n",
        "    print(\"Mean:\",scaler_y.mean_)\n",
        "    print(\"STD: \",scaler_y.scale_)\n",
        "\n",
        "# -------------------------------\n",
        "# Print information\n",
        "print(\"Shape X -->\",X.shape)\n",
        "print(\"Shape y -->\",y.shape)\n"
      ],
      "id": "JaOj1m1qAzc3"
    },
    {
      "cell_type": "markdown",
      "metadata": {
        "id": "PicS01_W5WWh"
      },
      "source": [
        "# Feature selection"
      ],
      "id": "PicS01_W5WWh"
    },
    {
      "cell_type": "code",
      "execution_count": null,
      "metadata": {
        "colab": {
          "base_uri": "https://localhost:8080/"
        },
        "id": "h052JMgqhveo",
        "outputId": "67ba8b4b-c4a5-45fc-d22a-64a4fb0fd943"
      },
      "outputs": [
        {
          "output_type": "stream",
          "name": "stdout",
          "text": [
            "Shape X --> (9800, 784)\n",
            "Shape y --> (9800,)\n"
          ]
        }
      ],
      "source": [
        "# -------------------------------\n",
        "# Feature selection\n",
        "if DoFeatureSelection:\n",
        "    print(\"Shape X ini -->\",X.shape)\n",
        "\n",
        "    # -------------------------------\n",
        "    # Removing features with low variance\n",
        "    from sklearn.feature_selection import VarianceThreshold\n",
        "    P = 50/100 # Remove features that are either \"on\" or \"off\" in more than P% of the samples\n",
        "    SelectionObject = VarianceThreshold(threshold=(P * (1 - P)))\n",
        "    X   = SelectionObject.fit_transform(X)\n",
        "    print(\"Shape X end -->\",X.shape)\n",
        "\n",
        "    \"\"\"\n",
        "    # -------------------------------\n",
        "    # SelectKBest removes all but the  highest scoring features\n",
        "    from sklearn.feature_selection import SelectKBest\n",
        "    from sklearn.feature_selection import chi2\n",
        "    X = SelectKBest(chi2, k=500).fit_transform(X, y)\n",
        "    print(\"Shape X end -->\",X.shape)\n",
        "    \"\"\"\n",
        "\n",
        "# -------------------------------\n",
        "# Print information\n",
        "print(\"Shape X -->\",X.shape)\n",
        "print(\"Shape y -->\",y.shape)\n"
      ],
      "id": "h052JMgqhveo"
    },
    {
      "cell_type": "markdown",
      "metadata": {
        "id": "LmUJtnB85WWi"
      },
      "source": [
        "# Other pre-processing methods"
      ],
      "id": "LmUJtnB85WWi"
    },
    {
      "cell_type": "code",
      "execution_count": null,
      "metadata": {
        "colab": {
          "base_uri": "https://localhost:8080/"
        },
        "id": "5tWkYLfQhveo",
        "outputId": "cf546540-40fc-4152-be61-a41d08f705ce"
      },
      "outputs": [
        {
          "output_type": "stream",
          "name": "stdout",
          "text": [
            "Shape X --> (9800, 784)\n",
            "Shape y --> (9800,)\n"
          ]
        }
      ],
      "source": [
        "# -------------------------------\n",
        "# Other pre-processing methods\n",
        "\n",
        "# -------------------------------\n",
        "# Print information\n",
        "print(\"Shape X -->\",X.shape)\n",
        "print(\"Shape y -->\",y.shape)\n"
      ],
      "id": "5tWkYLfQhveo"
    },
    {
      "cell_type": "markdown",
      "source": [
        "# Eliminate corrupted images (or vectors)"
      ],
      "metadata": {
        "id": "NXMxJ5pdJ75U"
      },
      "id": "NXMxJ5pdJ75U"
    },
    {
      "cell_type": "code",
      "source": [
        "# -------------------------------\n",
        "# Eliminate corrupted images (or vectors)\n",
        "\n",
        "# -------------------------------\n",
        "# Print information\n",
        "print(\"Shape X -->\",X.shape)\n",
        "print(\"Shape y -->\",y.shape)\n"
      ],
      "metadata": {
        "colab": {
          "base_uri": "https://localhost:8080/"
        },
        "id": "84dePRkWJ40p",
        "outputId": "166e9c75-31db-47fc-c58f-327af65299cd"
      },
      "id": "84dePRkWJ40p",
      "execution_count": null,
      "outputs": [
        {
          "output_type": "stream",
          "name": "stdout",
          "text": [
            "Shape X --> (9800, 784)\n",
            "Shape y --> (9800,)\n"
          ]
        }
      ]
    },
    {
      "cell_type": "markdown",
      "source": [
        "# Define funtions"
      ],
      "metadata": {
        "id": "8ZhHRGs-djAz"
      },
      "id": "8ZhHRGs-djAz"
    },
    {
      "cell_type": "code",
      "source": [
        "# -------------------------------\n",
        "# Scatter plot\n",
        "def plotresults_scatterplot(yreal, yesti, ymin, ymax, doplot):\n",
        "    \"\"\"\n",
        "    plotresults_scatterplot\n",
        "    \"\"\"\n",
        "\n",
        "    # Verify\n",
        "    if yreal.size != yesti.size: print(\"Pilas perrito: esto no puede pasar\")\n",
        "\n",
        "    # Plot\n",
        "    if doplot:\n",
        "        plt.figure(figsize=(4, 4))\n",
        "        plt.scatter(yreal, yesti, s=20, alpha=0.5, label=\"Model 1\")\n",
        "        x1, y1 = [ymin, ymax], [ymin, ymax]\n",
        "        plt.plot(x1, y1, \"--\",color=\"k\")\n",
        "        plt.xlim(ymin,ymax)\n",
        "        plt.ylim(ymin,ymax)\n",
        "        #plt.legend()\n",
        "        #plt.title(\"Test\")\n",
        "        plt.xlabel(\"$y$\")\n",
        "        plt.ylabel(\"$\\hat{y}$\")\n",
        "        plt.show()\n",
        "\n",
        "    # Return\n",
        "    return 0\n",
        "\n",
        "# -------------------------------\n",
        "# Compute metrics\n",
        "def computemetrics(yreal, yesti, doprint):\n",
        "    \"\"\"\n",
        "    computemetrics\n",
        "    \"\"\"\n",
        "\n",
        "    # Verify\n",
        "    if yreal.size != yesti.size: print(\"Pilas perrito: esto no puede pasar\")\n",
        "\n",
        "    r2      = r2_score(                       yreal, yesti )\n",
        "    expvar  = 100*explained_variance_score(   yreal, yesti )\n",
        "    mse     = mean_squared_error(             yreal, yesti )\n",
        "    mae     = mean_absolute_error(            yreal, yesti )\n",
        "    mape    = mean_absolute_percentage_error( yreal, yesti )\n",
        "    maxerr  = max_error(                      yreal, yesti )\n",
        "\n",
        "    if doprint:\n",
        "        print(\"R-squared:                                {0:1.2f}\".format(      r2)     )\n",
        "        print(\"Explained variance:                       {0:1.0f}%\".format(     expvar) )\n",
        "        print(\"Mean Squared Error (MSE):                 {0:1.2f} Hz/s\".format( mse)    )\n",
        "        print(\"Mean Absolute Error (MAE):                {0:1.2f} Hz/s\".format( mae)    )\n",
        "        print(\"Maximum error (MaxErr):                   {0:1.2f} Hz/s\".format( maxerr) )\n",
        "        print(\"Mean Absolute Percentage Error (MAPE):    {0:1.2f} %\".format(    mape)   )\n",
        "        print(\" \")\n",
        "\n",
        "    # Return\n",
        "    return r2, expvar, mse, mae, maxerr, mape\n"
      ],
      "metadata": {
        "id": "Lu_wZ-OVd7no"
      },
      "id": "Lu_wZ-OVd7no",
      "execution_count": null,
      "outputs": []
    },
    {
      "cell_type": "markdown",
      "metadata": {
        "id": "gLE6kkNK-jnf"
      },
      "source": [
        "# Fitting a regression model to make predictions of future/unknown inputs\n",
        "\n",
        "We will evaluate the fitted regression model using hold-out cross-validation (HOCV) procedure\n"
      ],
      "id": "gLE6kkNK-jnf"
    },
    {
      "cell_type": "code",
      "source": [
        "# -------------------------------\n",
        "# Split the dataset in train and test dataset: train (70%) and test (30%)\n",
        "Xtrain, Xtest, ytrain, ytest = train_test_split(X, y, test_size = 0.30, random_state=i)\n",
        "\n",
        "# Check datasets\n",
        "print(\"Verify train dataset\")\n",
        "print(\"Xtrain shape -->\",Xtrain.shape)\n",
        "print(\"ytrain shape -->\",ytrain.shape)\n",
        "print(\" \")\n",
        "\n",
        "print(\"Verify test dataset\")\n",
        "print(\"Xtest shape -->\",Xtest.shape)\n",
        "print(\"ytest shape -->\",ytest.shape)\n",
        "print(\" \")"
      ],
      "metadata": {
        "colab": {
          "base_uri": "https://localhost:8080/"
        },
        "id": "Pz3UrHKfh7j4",
        "outputId": "b857030d-215e-4abb-ddb8-26520eb32451"
      },
      "id": "Pz3UrHKfh7j4",
      "execution_count": null,
      "outputs": [
        {
          "output_type": "stream",
          "name": "stdout",
          "text": [
            "Verify train dataset\n",
            "Xtrain shape --> (6860, 784)\n",
            "ytrain shape --> (6860,)\n",
            " \n",
            "Verify test dataset\n",
            "Xtest shape --> (2940, 784)\n",
            "ytest shape --> (2940,)\n",
            " \n"
          ]
        }
      ]
    },
    {
      "cell_type": "code",
      "source": [
        "# -------------------------------\n",
        "# Create regression object\n",
        "if model==\"Linear\":\n",
        "    M1 = linear_model.LinearRegression()\n",
        "\n",
        "elif model==\"Ridge\":\n",
        "    M1 = linear_model.Ridge(alpha=0.1)\n",
        "\n",
        "elif model==\"Lasso\":\n",
        "    M1 = linear_model.Lasso(alpha=0.01)\n",
        "\n",
        "elif model==\"BayesianRidge\":\n",
        "    M1 = linear_model.BayesianRidge()\n",
        "\n",
        "elif model==\"SVR\":\n",
        "    M1 = SVR(kernel=\"linear\" , C=100, gamma=\"auto\")\n",
        "    #M1 = SVR(kernel=\"poly\"   , C=100, gamma=\"auto\" , epsilon=0.1, degree=3, coef0=1)\n",
        "    #M1 = SVR(kernel=\"rbf\"    , C=100, gamma=0.1    , epsilon=0.1)\n",
        "\n",
        "elif model==\"DecisionTree\":\n",
        "    M1 = tree.DecisionTreeRegressor(max_depth=15)\n",
        "\n",
        "elif model[0:3]==\"DNN\":\n",
        "    M1 = keras.Sequential()\n",
        "\n",
        "    if model==\"DNN16\":\n",
        "        M1.add(keras.layers.Dense( 16, activation='relu', input_shape=(784,)))\n",
        "    elif model==\"DNN32\":\n",
        "        M1.add(keras.layers.Dense( 32, activation='relu', input_shape=(784,)))\n",
        "        M1.add(keras.layers.Dense( 16, activation='relu'))\n",
        "    elif model==\"DNN64\":\n",
        "        M1.add(keras.layers.Dense( 64, activation='relu', input_shape=(784,)))\n",
        "        M1.add(keras.layers.Dense( 32, activation='relu'))\n",
        "        M1.add(keras.layers.Dense( 16, activation='relu'))\n",
        "    elif model==\"DNN128\":\n",
        "        M1.add(keras.layers.Dense(128, activation='relu', input_shape=(784,)))\n",
        "        M1.add(keras.layers.Dense( 64, activation='relu'))\n",
        "        M1.add(keras.layers.Dense( 32, activation='relu'))\n",
        "        M1.add(keras.layers.Dense( 16, activation='relu'))\n",
        "    elif model==\"DNN256\":\n",
        "        M1.add(keras.layers.Dense(256, activation='relu', input_shape=(784,)))\n",
        "        M1.add(keras.layers.Dense(128, activation='relu'))\n",
        "        M1.add(keras.layers.Dense( 64, activation='relu'))\n",
        "        M1.add(keras.layers.Dense( 32, activation='relu'))\n",
        "        M1.add(keras.layers.Dense( 16, activation='relu'))\n",
        "    elif model==\"DNN512\":\n",
        "        M1.add(keras.layers.Dense( 512, activation='relu', input_shape=(784,)))\n",
        "        M1.add(keras.layers.Dense( 256, activation='relu'))\n",
        "        M1.add(keras.layers.Dense( 128, activation='relu'))\n",
        "        M1.add(keras.layers.Dense(  64, activation='relu'))\n",
        "        M1.add(keras.layers.Dense(  32, activation='relu'))\n",
        "        M1.add(keras.layers.Dense(  16, activation='relu'))\n",
        "    if model==\"DNN1024\":\n",
        "        M1.add(keras.layers.Dense(1024, activation='relu', input_shape=(784,)))\n",
        "        M1.add(keras.layers.Dense( 512, activation='relu'))\n",
        "        M1.add(keras.layers.Dense( 256, activation='relu'))\n",
        "        M1.add(keras.layers.Dense( 128, activation='relu'))\n",
        "        M1.add(keras.layers.Dense(  64, activation='relu'))\n",
        "        M1.add(keras.layers.Dense(  32, activation='relu'))\n",
        "        M1.add(keras.layers.Dense(  16, activation='relu'))\n",
        "\n",
        "    M1.add(keras.layers.Dense(  1, activation='linear'))\n",
        "    M1.compile(optimizer = RMSprop(learning_rate = 0.001), loss = 'mean_squared_error')\n",
        "    #M1.compile(loss= \"mean_squared_error\" , optimizer=\"adam\", metrics=[\"mean_squared_error\"])\n",
        "    M1.summary()\n",
        "\n",
        "elif model[0:3]==\"CNN\":\n",
        "    # Define input image dimensions\n",
        "    img_rows, img_cols = Kimg, Kimg\n",
        "    input_shape = (img_rows, img_cols, 1)\n",
        "\n",
        "    # Create CNN model\n",
        "    M1 = Sequential()\n",
        "\n",
        "    if   model==\"CNN1\":\n",
        "        M1.add(Conv2D(64, (3, 3), activation='relu', input_shape = input_shape))\n",
        "        M1.add(MaxPooling2D(pool_size=(2, 2)))\n",
        "    elif model==\"CNN2\":\n",
        "        M1.add(Conv2D(64, (3, 3), activation='relu', input_shape = input_shape))\n",
        "        M1.add(MaxPooling2D(pool_size=(2, 2)))\n",
        "        M1.add(Conv2D(32, (3, 3), activation='relu'))\n",
        "        M1.add(MaxPooling2D(pool_size=(2, 2)))\n",
        "    elif model==\"CNN3\":\n",
        "        M1.add(Conv2D(64, (3, 3), activation='relu', input_shape = input_shape))\n",
        "        M1.add(MaxPooling2D(pool_size=(2, 2)))\n",
        "        M1.add(Conv2D(32, (3, 3), activation='relu'))\n",
        "        M1.add(MaxPooling2D(pool_size=(2, 2)))\n",
        "        M1.add(Conv2D(16, (3, 3), activation='relu'))\n",
        "        M1.add(MaxPooling2D(pool_size=(2, 2)))\n",
        "\n",
        "    M1.add(Flatten())\n",
        "    M1.add(Dense(128, activation='relu'))\n",
        "    #M1.add(Dropout(0.1))\n",
        "    #M1.add(Dense(256, activation='relu'))\n",
        "    #M1.add(Dropout(0.1))\n",
        "    #M1.add(Dense(128, activation='relu'))\n",
        "    #M1.add(Dropout(0.1))\n",
        "    #M1.add(Dense( 64, activation='relu'))\n",
        "    #M1.add(Dropout(0.1))\n",
        "    M1.add(Dense(1, activation='linear'))\n",
        "\n",
        "    # One may use 'mean_absolute_error' as  mean_squared_error\n",
        "    # You can add several \"metrics\" if needed\n",
        "    M1.compile(loss='mean_squared_error', optimizer='adam', metrics=[r2_keras] )\n",
        "\n",
        "    M1.summary()"
      ],
      "metadata": {
        "id": "07wIooE0h7nd"
      },
      "id": "07wIooE0h7nd",
      "execution_count": null,
      "outputs": []
    },
    {
      "cell_type": "code",
      "source": [
        "# -------------------------------\n",
        "# Train model\n",
        "if model==\"Linear\" or model==\"Ridge\" or model==\"Lasso\" or model==\"BayesianRidge\" or model==\"SVR\" or model==\"DecisionTree\":\n",
        "    M1.fit( Xtrain, ytrain )\n",
        "\n",
        "elif model[0:3]==\"DNN\":\n",
        "    HIST = M1.fit( Xtrain, ytrain, batch_size=512, epochs=500, verbose=0, validation_data=(Xtest, ytest) )\n",
        "\n",
        "elif model[0:3]==\"CNN\":\n",
        "    Xtrain  = Xtrain.reshape( Xtrain.shape[0], img_rows, img_cols, 1)\n",
        "    Xtest   = Xtest.reshape( Xtest.shape[0] , img_rows, img_cols, 1)\n",
        "    HIST    = M1.fit( Xtrain, ytrain, batch_size=512, epochs=150, verbose=0, validation_data=(Xtest, ytest) )\n",
        "\n",
        "if model[0:3]==\"DNN\" or model[0:3]==\"CNN\":\n",
        "    plt.plot(HIST.history[\"loss\"])\n",
        "    plt.plot(HIST.history[\"val_loss\"],':')\n",
        "    plt.title(\"model lost\")\n",
        "    plt.ylabel(\"loss\")\n",
        "    plt.xlabel(\"epoch\")\n",
        "    plt.legend([\"train\", \"validation\"], loc=\"upper left\")\n",
        "    plt.show()"
      ],
      "metadata": {
        "id": "u7Ff24C3h7sZ"
      },
      "id": "u7Ff24C3h7sZ",
      "execution_count": null,
      "outputs": []
    },
    {
      "cell_type": "code",
      "source": [
        "\"\"\"\n",
        "\n",
        "# -------------------------------\n",
        "# Check how the model behaves with the training data. This is not needed, it is only a verification\n",
        "if doplot:\n",
        "    # Make prediction using the training data\n",
        "    ytrainesti = M1.predict(Xtrain)\n",
        "\n",
        "    # Denormalize \"y\" data\n",
        "    if DoStandarization_y:\n",
        "        ytrain     = scaler_y.inverse_transform(ytrain.reshape(-1, 1))\n",
        "        ytrain     = ytrain.reshape(-1)\n",
        "        ytrainesti = scaler_y.inverse_transform(ytrainesti.reshape(-1, 1))\n",
        "        ytrainesti = ytrainesti.reshape(-1)\n",
        "\n",
        "    # Plot results\n",
        "    plotresults_scatterplot(ytrain, ytrainesti, doplot)\n",
        "\n",
        "    # Compute and print metrics\n",
        "    computemetrics(ytrain, ytrainesti, doprint)\n",
        "\n",
        "    # Check results\n",
        "    print(\"Verify results\")\n",
        "    print(\"YTRUE shape -->\",ytrain.shape)\n",
        "    print(\"YESTI shape -->\",ytrainesti.shape)\n",
        "\n",
        "\"\"\""
      ],
      "metadata": {
        "colab": {
          "base_uri": "https://localhost:8080/"
        },
        "id": "lu0DVW34iEva",
        "outputId": "bf3df8be-afd3-4c03-f0b1-a90ecacb63e0"
      },
      "id": "lu0DVW34iEva",
      "execution_count": null,
      "outputs": [
        {
          "output_type": "execute_result",
          "data": {
            "text/plain": [
              "'\\n\\n# -------------------------------\\n# Check how the model behaves with the training data. This is not needed, it is only a verification\\nif doplot:\\n    # Make prediction using the training data\\n    ytrainesti = M1.predict(Xtrain)\\n\\n    # Denormalize \"y\" data\\n    if DoStandarization_y:\\n        ytrain     = scaler_y.inverse_transform(ytrain.reshape(-1, 1))\\n        ytrain     = ytrain.reshape(-1)\\n        ytrainesti = scaler_y.inverse_transform(ytrainesti.reshape(-1, 1))\\n        ytrainesti = ytrainesti.reshape(-1)\\n    \\n    # Plot results\\n    plotresults_scatterplot(ytrain, ytrainesti, doplot)\\n\\n    # Compute and print metrics\\n    computemetrics(ytrain, ytrainesti, doprint)\\n\\n    # Check results\\n    print(\"Verify results\")\\n    print(\"YTRUE shape -->\",ytrain.shape)\\n    print(\"YESTI shape -->\",ytrainesti.shape)\\n\\n'"
            ],
            "application/vnd.google.colaboratory.intrinsic+json": {
              "type": "string"
            }
          },
          "metadata": {},
          "execution_count": 19
        }
      ]
    },
    {
      "cell_type": "code",
      "source": [
        "# -------------------------------\n",
        "# Make predictions using the test data\n",
        "yesti = M1.predict(Xtest)\n",
        "\n",
        "if model[0:3]==\"DNN\" or model[0:3]==\"CNN\":\n",
        "    #score = M1.evaluate(Xtest, ytest, verbose=1)\n",
        "    yesti = yesti.reshape(-1)\n",
        "\n",
        "# -------------------------------\n",
        "# Denormalize \"y\" data\n",
        "if DoStandarization_y:\n",
        "    ytest = scaler_y.inverse_transform(ytest.reshape(-1, 1))\n",
        "    yesti = scaler_y.inverse_transform(yesti.reshape(-1, 1))\n",
        "    ytest = ytest.reshape(-1)\n",
        "    yesti = yesti.reshape(-1)\n",
        "\n",
        "# -------------------------------\n",
        "# Check results\n",
        "print(\"Verify results\")\n",
        "print(\"YTRUE shape -->\",ytest.shape)\n",
        "print(\"YESTI shape -->\",yesti.shape)\n"
      ],
      "metadata": {
        "colab": {
          "base_uri": "https://localhost:8080/"
        },
        "id": "K9FJjDOziEyU",
        "outputId": "60c247cf-39fc-47ed-dc78-ee08a3acaca8"
      },
      "id": "K9FJjDOziEyU",
      "execution_count": null,
      "outputs": [
        {
          "output_type": "stream",
          "name": "stdout",
          "text": [
            "Verify results\n",
            "YTRUE shape --> (2940,)\n",
            "YESTI shape --> (2940,)\n"
          ]
        }
      ]
    },
    {
      "cell_type": "code",
      "source": [
        "# Print and analyse results\n",
        "\n",
        "# Select one\n",
        "i = 900\n",
        "\n",
        "# Print real and estimated value\n",
        "print(\"ytest  yesti\")\n",
        "print( ytest[i], yesti[i] )\n",
        "\n",
        "# Questions:\n",
        "# How good is the output of the ML regression model?\n",
        "# What can we do to measure or quantify how good is the ML regression model?\n"
      ],
      "metadata": {
        "colab": {
          "base_uri": "https://localhost:8080/"
        },
        "id": "9_raRNlBkiPb",
        "outputId": "a267eb58-ad4b-4aa0-987e-ed65959b0c43"
      },
      "id": "9_raRNlBkiPb",
      "execution_count": null,
      "outputs": [
        {
          "output_type": "stream",
          "name": "stdout",
          "text": [
            "ytest  yesti\n",
            "4200.0 4260.0\n"
          ]
        }
      ]
    },
    {
      "cell_type": "code",
      "source": [
        "# -------------------------------\n",
        "# Plot results\n",
        "print(\"                  Test data\")\n",
        "y_minval = 0\n",
        "y_maxval = int(yesti.max())\n",
        "plotresults_scatterplot(ytest, yesti, y_minval, y_maxval, doplot)\n",
        "\n",
        "# -------------------------------\n",
        "# Compute and print metrics\n",
        "r2, expvar, mse, mae, maxerr, mape = computemetrics(ytest, yesti, doprint)"
      ],
      "metadata": {
        "colab": {
          "base_uri": "https://localhost:8080/",
          "height": 537
        },
        "id": "w8BTfiFpiE2R",
        "outputId": "294c9a2c-6355-46bc-b5e6-aa3efc048a40"
      },
      "id": "w8BTfiFpiE2R",
      "execution_count": null,
      "outputs": [
        {
          "output_type": "stream",
          "name": "stdout",
          "text": [
            "                  Test data\n"
          ]
        },
        {
          "output_type": "display_data",
          "data": {
            "text/plain": [
              "<Figure size 400x400 with 1 Axes>"
            ],
            "image/png": "[encoded data removed]"
          },
          "metadata": {}
        },
        {
          "output_type": "stream",
          "name": "stdout",
          "text": [
            "R-squared:                                0.99\n",
            "Explained variance:                       99%\n",
            "Mean Squared Error (MSE):                 18301.31 Hz/s\n",
            "Mean Absolute Error (MAE):                107.83 Hz/s\n",
            "Maximum error (MaxErr):                   614.00 Hz/s\n",
            "Mean Absolute Percentage Error (MAPE):    0.07 %\n",
            " \n"
          ]
        }
      ]
    },
    {
      "cell_type": "markdown",
      "source": [
        "# Save results"
      ],
      "metadata": {
        "id": "Zuv6Txr3olCc"
      },
      "id": "Zuv6Txr3olCc"
    },
    {
      "cell_type": "code",
      "source": [
        "# -------------------------------\n",
        "# Convert YTRUE and YESTI to pandas\n",
        "dfy   = np.array([ytest,yesti]).T\n",
        "dfy   = pd.DataFrame(dfy, columns=['ytrue','yesti'])\n",
        "\n",
        "# -------------------------------\n",
        "# Save data\n",
        "dfy.to_csv(Ruta + \"ResultsDemo1\" + \"/\" + FileName[0:-4] + \"_\" + model + \"_YtrueYesti\" + \".csv\", index=False)\n",
        "\n",
        "# -------------------------------\n",
        "# print dataframe\n",
        "dfy\n"
      ],
      "metadata": {
        "id": "0UR6jkzBnWsJ",
        "colab": {
          "base_uri": "https://localhost:8080/",
          "height": 399
        },
        "outputId": "ab26c692-b231-43bf-e1cd-06ce747ef8e2"
      },
      "id": "0UR6jkzBnWsJ",
      "execution_count": null,
      "outputs": [
        {
          "output_type": "error",
          "ename": "OSError",
          "evalue": "ignored",
          "traceback": [
            "\u001b[0;31m---------------------------------------------------------------------------\u001b[0m",
            "\u001b[0;31mOSError\u001b[0m                                   Traceback (most recent call last)",
            "\u001b[0;32m<ipython-input-23-ab6b209a2ed6>\u001b[0m in \u001b[0;36m<cell line: 8>\u001b[0;34m()\u001b[0m\n\u001b[1;32m      6\u001b[0m \u001b[0;31m# -------------------------------\u001b[0m\u001b[0;34m\u001b[0m\u001b[0;34m\u001b[0m\u001b[0m\n\u001b[1;32m      7\u001b[0m \u001b[0;31m# Save data\u001b[0m\u001b[0;34m\u001b[0m\u001b[0;34m\u001b[0m\u001b[0m\n\u001b[0;32m----> 8\u001b[0;31m \u001b[0mdfy\u001b[0m\u001b[0;34m.\u001b[0m\u001b[0mto_csv\u001b[0m\u001b[0;34m(\u001b[0m\u001b[0mRuta\u001b[0m \u001b[0;34m+\u001b[0m \u001b[0;34m\"ResultsDemo1\"\u001b[0m \u001b[0;34m+\u001b[0m \u001b[0;34m\"/\"\u001b[0m \u001b[0;34m+\u001b[0m \u001b[0mFileName\u001b[0m\u001b[0;34m[\u001b[0m\u001b[0;36m0\u001b[0m\u001b[0;34m:\u001b[0m\u001b[0;34m-\u001b[0m\u001b[0;36m4\u001b[0m\u001b[0;34m]\u001b[0m \u001b[0;34m+\u001b[0m \u001b[0;34m\"_\"\u001b[0m \u001b[0;34m+\u001b[0m \u001b[0mmodel\u001b[0m \u001b[0;34m+\u001b[0m \u001b[0;34m\"_YtrueYesti\"\u001b[0m \u001b[0;34m+\u001b[0m \u001b[0;34m\".csv\"\u001b[0m\u001b[0;34m,\u001b[0m \u001b[0mindex\u001b[0m\u001b[0;34m=\u001b[0m\u001b[0;32mFalse\u001b[0m\u001b[0;34m)\u001b[0m\u001b[0;34m\u001b[0m\u001b[0;34m\u001b[0m\u001b[0m\n\u001b[0m\u001b[1;32m      9\u001b[0m \u001b[0;34m\u001b[0m\u001b[0m\n\u001b[1;32m     10\u001b[0m \u001b[0;31m# -------------------------------\u001b[0m\u001b[0;34m\u001b[0m\u001b[0;34m\u001b[0m\u001b[0m\n",
            "\u001b[0;32m/usr/local/lib/python3.10/dist-packages/pandas/util/_decorators.py\u001b[0m in \u001b[0;36mwrapper\u001b[0;34m(*args, **kwargs)\u001b[0m\n\u001b[1;32m    209\u001b[0m                 \u001b[0;32melse\u001b[0m\u001b[0;34m:\u001b[0m\u001b[0;34m\u001b[0m\u001b[0;34m\u001b[0m\u001b[0m\n\u001b[1;32m    210\u001b[0m                     \u001b[0mkwargs\u001b[0m\u001b[0;34m[\u001b[0m\u001b[0mnew_arg_name\u001b[0m\u001b[0;34m]\u001b[0m \u001b[0;34m=\u001b[0m \u001b[0mnew_arg_value\u001b[0m\u001b[0;34m\u001b[0m\u001b[0;34m\u001b[0m\u001b[0m\n\u001b[0;32m--> 211\u001b[0;31m             \u001b[0;32mreturn\u001b[0m \u001b[0mfunc\u001b[0m\u001b[0;34m(\u001b[0m\u001b[0;34m*\u001b[0m\u001b[0margs\u001b[0m\u001b[0;34m,\u001b[0m \u001b[0;34m**\u001b[0m\u001b[0mkwargs\u001b[0m\u001b[0;34m)\u001b[0m\u001b[0;34m\u001b[0m\u001b[0;34m\u001b[0m\u001b[0m\n\u001b[0m\u001b[1;32m    212\u001b[0m \u001b[0;34m\u001b[0m\u001b[0m\n\u001b[1;32m    213\u001b[0m         \u001b[0;32mreturn\u001b[0m \u001b[0mcast\u001b[0m\u001b[0;34m(\u001b[0m\u001b[0mF\u001b[0m\u001b[0;34m,\u001b[0m \u001b[0mwrapper\u001b[0m\u001b[0;34m)\u001b[0m\u001b[0;34m\u001b[0m\u001b[0;34m\u001b[0m\u001b[0m\n",
            "\u001b[0;32m/usr/local/lib/python3.10/dist-packages/pandas/core/generic.py\u001b[0m in \u001b[0;36mto_csv\u001b[0;34m(self, path_or_buf, sep, na_rep, float_format, columns, header, index, index_label, mode, encoding, compression, quoting, quotechar, lineterminator, chunksize, date_format, doublequote, escapechar, decimal, errors, storage_options)\u001b[0m\n\u001b[1;32m   3718\u001b[0m         )\n\u001b[1;32m   3719\u001b[0m \u001b[0;34m\u001b[0m\u001b[0m\n\u001b[0;32m-> 3720\u001b[0;31m         return DataFrameRenderer(formatter).to_csv(\n\u001b[0m\u001b[1;32m   3721\u001b[0m             \u001b[0mpath_or_buf\u001b[0m\u001b[0;34m,\u001b[0m\u001b[0;34m\u001b[0m\u001b[0;34m\u001b[0m\u001b[0m\n\u001b[1;32m   3722\u001b[0m             \u001b[0mlineterminator\u001b[0m\u001b[0;34m=\u001b[0m\u001b[0mlineterminator\u001b[0m\u001b[0;34m,\u001b[0m\u001b[0;34m\u001b[0m\u001b[0;34m\u001b[0m\u001b[0m\n",
            "\u001b[0;32m/usr/local/lib/python3.10/dist-packages/pandas/util/_decorators.py\u001b[0m in \u001b[0;36mwrapper\u001b[0;34m(*args, **kwargs)\u001b[0m\n\u001b[1;32m    209\u001b[0m                 \u001b[0;32melse\u001b[0m\u001b[0;34m:\u001b[0m\u001b[0;34m\u001b[0m\u001b[0;34m\u001b[0m\u001b[0m\n\u001b[1;32m    210\u001b[0m                     \u001b[0mkwargs\u001b[0m\u001b[0;34m[\u001b[0m\u001b[0mnew_arg_name\u001b[0m\u001b[0;34m]\u001b[0m \u001b[0;34m=\u001b[0m \u001b[0mnew_arg_value\u001b[0m\u001b[0;34m\u001b[0m\u001b[0;34m\u001b[0m\u001b[0m\n\u001b[0;32m--> 211\u001b[0;31m             \u001b[0;32mreturn\u001b[0m \u001b[0mfunc\u001b[0m\u001b[0;34m(\u001b[0m\u001b[0;34m*\u001b[0m\u001b[0margs\u001b[0m\u001b[0;34m,\u001b[0m \u001b[0;34m**\u001b[0m\u001b[0mkwargs\u001b[0m\u001b[0;34m)\u001b[0m\u001b[0;34m\u001b[0m\u001b[0;34m\u001b[0m\u001b[0m\n\u001b[0m\u001b[1;32m    212\u001b[0m \u001b[0;34m\u001b[0m\u001b[0m\n\u001b[1;32m    213\u001b[0m         \u001b[0;32mreturn\u001b[0m \u001b[0mcast\u001b[0m\u001b[0;34m(\u001b[0m\u001b[0mF\u001b[0m\u001b[0;34m,\u001b[0m \u001b[0mwrapper\u001b[0m\u001b[0;34m)\u001b[0m\u001b[0;34m\u001b[0m\u001b[0;34m\u001b[0m\u001b[0m\n",
            "\u001b[0;32m/usr/local/lib/python3.10/dist-packages/pandas/io/formats/format.py\u001b[0m in \u001b[0;36mto_csv\u001b[0;34m(self, path_or_buf, encoding, sep, columns, index_label, mode, compression, quoting, quotechar, lineterminator, chunksize, date_format, doublequote, escapechar, errors, storage_options)\u001b[0m\n\u001b[1;32m   1187\u001b[0m             \u001b[0mformatter\u001b[0m\u001b[0;34m=\u001b[0m\u001b[0mself\u001b[0m\u001b[0;34m.\u001b[0m\u001b[0mfmt\u001b[0m\u001b[0;34m,\u001b[0m\u001b[0;34m\u001b[0m\u001b[0;34m\u001b[0m\u001b[0m\n\u001b[1;32m   1188\u001b[0m         )\n\u001b[0;32m-> 1189\u001b[0;31m         \u001b[0mcsv_formatter\u001b[0m\u001b[0;34m.\u001b[0m\u001b[0msave\u001b[0m\u001b[0;34m(\u001b[0m\u001b[0;34m)\u001b[0m\u001b[0;34m\u001b[0m\u001b[0;34m\u001b[0m\u001b[0m\n\u001b[0m\u001b[1;32m   1190\u001b[0m \u001b[0;34m\u001b[0m\u001b[0m\n\u001b[1;32m   1191\u001b[0m         \u001b[0;32mif\u001b[0m \u001b[0mcreated_buffer\u001b[0m\u001b[0;34m:\u001b[0m\u001b[0;34m\u001b[0m\u001b[0;34m\u001b[0m\u001b[0m\n",
            "\u001b[0;32m/usr/local/lib/python3.10/dist-packages/pandas/io/formats/csvs.py\u001b[0m in \u001b[0;36msave\u001b[0;34m(self)\u001b[0m\n\u001b[1;32m    239\u001b[0m         \"\"\"\n\u001b[1;32m    240\u001b[0m         \u001b[0;31m# apply compression and byte/text conversion\u001b[0m\u001b[0;34m\u001b[0m\u001b[0;34m\u001b[0m\u001b[0m\n\u001b[0;32m--> 241\u001b[0;31m         with get_handle(\n\u001b[0m\u001b[1;32m    242\u001b[0m             \u001b[0mself\u001b[0m\u001b[0;34m.\u001b[0m\u001b[0mfilepath_or_buffer\u001b[0m\u001b[0;34m,\u001b[0m\u001b[0;34m\u001b[0m\u001b[0;34m\u001b[0m\u001b[0m\n\u001b[1;32m    243\u001b[0m             \u001b[0mself\u001b[0m\u001b[0;34m.\u001b[0m\u001b[0mmode\u001b[0m\u001b[0;34m,\u001b[0m\u001b[0;34m\u001b[0m\u001b[0;34m\u001b[0m\u001b[0m\n",
            "\u001b[0;32m/usr/local/lib/python3.10/dist-packages/pandas/io/common.py\u001b[0m in \u001b[0;36mget_handle\u001b[0;34m(path_or_buf, mode, encoding, compression, memory_map, is_text, errors, storage_options)\u001b[0m\n\u001b[1;32m    732\u001b[0m     \u001b[0;31m# Only for write methods\u001b[0m\u001b[0;34m\u001b[0m\u001b[0;34m\u001b[0m\u001b[0m\n\u001b[1;32m    733\u001b[0m     \u001b[0;32mif\u001b[0m \u001b[0;34m\"r\"\u001b[0m \u001b[0;32mnot\u001b[0m \u001b[0;32min\u001b[0m \u001b[0mmode\u001b[0m \u001b[0;32mand\u001b[0m \u001b[0mis_path\u001b[0m\u001b[0;34m:\u001b[0m\u001b[0;34m\u001b[0m\u001b[0;34m\u001b[0m\u001b[0m\n\u001b[0;32m--> 734\u001b[0;31m         \u001b[0mcheck_parent_directory\u001b[0m\u001b[0;34m(\u001b[0m\u001b[0mstr\u001b[0m\u001b[0;34m(\u001b[0m\u001b[0mhandle\u001b[0m\u001b[0;34m)\u001b[0m\u001b[0;34m)\u001b[0m\u001b[0;34m\u001b[0m\u001b[0;34m\u001b[0m\u001b[0m\n\u001b[0m\u001b[1;32m    735\u001b[0m \u001b[0;34m\u001b[0m\u001b[0m\n\u001b[1;32m    736\u001b[0m     \u001b[0;32mif\u001b[0m \u001b[0mcompression\u001b[0m\u001b[0;34m:\u001b[0m\u001b[0;34m\u001b[0m\u001b[0;34m\u001b[0m\u001b[0m\n",
            "\u001b[0;32m/usr/local/lib/python3.10/dist-packages/pandas/io/common.py\u001b[0m in \u001b[0;36mcheck_parent_directory\u001b[0;34m(path)\u001b[0m\n\u001b[1;32m    595\u001b[0m     \u001b[0mparent\u001b[0m \u001b[0;34m=\u001b[0m \u001b[0mPath\u001b[0m\u001b[0;34m(\u001b[0m\u001b[0mpath\u001b[0m\u001b[0;34m)\u001b[0m\u001b[0;34m.\u001b[0m\u001b[0mparent\u001b[0m\u001b[0;34m\u001b[0m\u001b[0;34m\u001b[0m\u001b[0m\n\u001b[1;32m    596\u001b[0m     \u001b[0;32mif\u001b[0m \u001b[0;32mnot\u001b[0m \u001b[0mparent\u001b[0m\u001b[0;34m.\u001b[0m\u001b[0mis_dir\u001b[0m\u001b[0;34m(\u001b[0m\u001b[0;34m)\u001b[0m\u001b[0;34m:\u001b[0m\u001b[0;34m\u001b[0m\u001b[0;34m\u001b[0m\u001b[0m\n\u001b[0;32m--> 597\u001b[0;31m         \u001b[0;32mraise\u001b[0m \u001b[0mOSError\u001b[0m\u001b[0;34m(\u001b[0m\u001b[0;34mrf\"Cannot save file into a non-existent directory: '{parent}'\"\u001b[0m\u001b[0;34m)\u001b[0m\u001b[0;34m\u001b[0m\u001b[0;34m\u001b[0m\u001b[0m\n\u001b[0m\u001b[1;32m    598\u001b[0m \u001b[0;34m\u001b[0m\u001b[0m\n\u001b[1;32m    599\u001b[0m \u001b[0;34m\u001b[0m\u001b[0m\n",
            "\u001b[0;31mOSError\u001b[0m: Cannot save file into a non-existent directory: '/content/drive/MyDrive/uhhh/Project_Regression4MassEstimationResultsDemo1'"
          ]
        }
      ]
    },
    {
      "cell_type": "code",
      "source": [],
      "metadata": {
        "id": "9nQKXQ6m6i4J"
      },
      "id": "9nQKXQ6m6i4J",
      "execution_count": null,
      "outputs": []
    }
  ],
  "metadata": {
    "colab": {
      "provenance": []
    },
    "kernelspec": {
      "display_name": "Python 3",
      "language": "python",
      "name": "python3"
    },
    "language_info": {
      "codemirror_mode": {
        "name": "ipython",
        "version": 3
      },
      "file_extension": ".py",
      "mimetype": "text/x-python",
      "name": "python",
      "nbconvert_exporter": "python",
      "pygments_lexer": "ipython3",
      "version": "3.8.3"
    }
  },
  "nbformat": 4,
  "nbformat_minor": 5
}